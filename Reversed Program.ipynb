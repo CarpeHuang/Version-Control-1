{
 "cells": [
  {
   "cell_type": "code",
   "execution_count": 1,
   "metadata": {},
   "outputs": [
    {
     "name": "stdin",
     "output_type": "stream",
     "text": [
      "Please enter your name:  Carpe\n",
      "Now, please enter something for me to reverse:  Diem\n"
     ]
    },
    {
     "name": "stdout",
     "output_type": "stream",
     "text": [
      "Hello, Carpe! The reversed input is: meiD\n"
     ]
    }
   ],
   "source": [
    "def do_something_with_input(input_string):\n",
    "    \"\"\"\n",
    "    This function takes an input string and reverses it.\n",
    "    \"\"\"\n",
    "    \n",
    "    reversed_string = input_string[::-1]\n",
    "    return reversed_string\n",
    "\n",
    "def main():\n",
    "    \n",
    "    name = input(\"Please enter your name: \")\n",
    "\n",
    "    \n",
    "    other_input = input(\"Now, please enter something for me to reverse: \")\n",
    "\n",
    "  \n",
    "    result = do_something_with_input(other_input)\n",
    "\n",
    "    \n",
    "    print(f\"Hello, {name}! The reversed input is: {result}\")\n",
    "\n",
    "if __name__ == \"__main__\":\n",
    "    main()\n"
   ]
  },
  {
   "cell_type": "code",
   "execution_count": null,
   "metadata": {},
   "outputs": [],
   "source": []
  }
 ],
 "metadata": {
  "kernelspec": {
   "display_name": "Python 3",
   "language": "python",
   "name": "python3"
  },
  "language_info": {
   "codemirror_mode": {
    "name": "ipython",
    "version": 3
   },
   "file_extension": ".py",
   "mimetype": "text/x-python",
   "name": "python",
   "nbconvert_exporter": "python",
   "pygments_lexer": "ipython3",
   "version": "3.8.3"
  }
 },
 "nbformat": 4,
 "nbformat_minor": 4
}
